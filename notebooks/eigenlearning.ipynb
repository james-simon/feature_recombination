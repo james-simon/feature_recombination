{
 "cells": [
  {
   "cell_type": "code",
   "execution_count": 2,
   "id": "11376b91",
   "metadata": {},
   "outputs": [],
   "source": [
    "import numpy as np\n",
    "import matplotlib.pyplot as plt\n",
    "\n",
    "import torch\n",
    "import torchvision\n",
    "import torch.nn.functional as F\n",
    "import torch.nn as nn\n",
    "\n",
    "from einops import rearrange, reduce, repeat\n",
    "\n",
    "import sys\n",
    "import os\n",
    "from tqdm import tqdm\n",
    "\n",
    "sys.path.append(\"../\")"
   ]
  },
  {
   "cell_type": "code",
   "execution_count": 3,
   "id": "c9b1b6da",
   "metadata": {},
   "outputs": [
    {
     "data": {
      "text/plain": [
       "<module 'ImageData' from '/Users/dkark/pythonlib/expt-core/ImageData.py'>"
      ]
     },
     "execution_count": 3,
     "metadata": {},
     "output_type": "execute_result"
    }
   ],
   "source": [
    "import importlib\n",
    "import ImageData\n",
    "importlib.reload(ImageData)"
   ]
  },
  {
   "cell_type": "code",
   "execution_count": 4,
   "id": "6d82b2f3",
   "metadata": {},
   "outputs": [],
   "source": [
    "from ImageData import ImageData, preprocess\n",
    "from ExptTrace import ExptTrace\n",
    "from kernels import GaussianKernel, LaplaceKernel, ExponentialKernel, krr\n",
    "from feature_decomp import generate_fra_monomials, Monomial\n",
    "from utils import ensure_torch, get_matrix_hermites\n",
    "from eigenlearning import eigenlearning\n",
    "to_torch = ensure_torch"
   ]
  },
  {
   "cell_type": "code",
   "execution_count": 5,
   "id": "85b08591",
   "metadata": {},
   "outputs": [],
   "source": [
    "DATA_PATH = os.getenv(\"DATASETPATH\")\n",
    "EXPT_PATH = os.getenv(\"EXPTPATH\")\n",
    "if DATA_PATH is None:\n",
    "    raise ValueError(\"must set $DATASETPATH environment variable\")\n",
    "if EXPT_PATH is None:\n",
    "    raise ValueError(\"must set $EXPTPATH environment variable\")\n",
    "main_dir = os.path.join(os.getenv(\"EXPTPATH\"), \"phlab\")\n",
    "expt_name = 'test'\n",
    "expt_dir = f'{main_dir}/{expt_name}'\n",
    "\n",
    "for dir in [main_dir, expt_dir]:\n",
    "    if not os.path.exists(dir):\n",
    "        os.makedirs(dir)"
   ]
  },
  {
   "cell_type": "code",
   "execution_count": 6,
   "id": "6c556e28",
   "metadata": {},
   "outputs": [],
   "source": [
    "def emp_eigsys(kernel, y):\n",
    "    eigvals, eigvecs = kernel.eigendecomp()\n",
    "    eigcoeffs = eigvecs.T @ y\n",
    "    eigcoeffs /= torch.linalg.norm(eigcoeffs)\n",
    "    eigvals = eigvals.cpu().numpy()\n",
    "    eigcoeffs = eigcoeffs.cpu().numpy()\n",
    "\n",
    "    return eigvals, eigcoeffs\n",
    "\n",
    "\n",
    "def fra_eigsys(X, y, eval_level_coeff):\n",
    "    N, _ = X.shape\n",
    "    S = torch.linalg.svdvals(X)\n",
    "    data_eigvals = S**2 / (S**2).sum()\n",
    "\n",
    "    eigvals, monomials = generate_fra_monomials(data_eigvals, N, eval_level_coeff, kmax=10)\n",
    "    H = get_matrix_hermites(X, monomials)\n",
    "    eigcoeffs = torch.linalg.lstsq(H, y).solution\n",
    "    eigcoeffs /= torch.linalg.norm(eigcoeffs)\n",
    "    eigcoeffs = eigcoeffs.cpu().numpy()\n",
    "\n",
    "    return eigvals, eigcoeffs\n",
    "\n",
    "\n",
    "def learning_curve(ntrains, eigvals, eigcoeffs, ridge=0, noise_var=0):\n",
    "    kappas, learnabilities, e0s, train_mses, test_mses = [np.zeros(len(ntrains)) for _ in range(5)]\n",
    "    for i, n in enumerate(ntrains):\n",
    "        res = eigenlearning(n, eigvals, eigcoeffs, ridge, noise_var)\n",
    "        # kappas[i] = res[\"kappa\"]\n",
    "        # learnabilities[i] = res[\"learnability\"]\n",
    "        # e0s[i] = res[\"overfitting_coeff\"]\n",
    "        train_mses[i] = res[\"train_mse\"]\n",
    "        test_mses[i] = res[\"test_mse\"]\n",
    "    return train_mses, test_mses"
   ]
  },
  {
   "cell_type": "markdown",
   "id": "9f13c225",
   "metadata": {},
   "source": [
    "# Gaussian data"
   ]
  },
  {
   "cell_type": "code",
   "execution_count": null,
   "id": "56a40678",
   "metadata": {},
   "outputs": [],
   "source": [
    "N = 3000 # 12000\n",
    "d = 200 # 500\n",
    "offset = 3\n",
    "alpha = 1.3\n",
    "data_eigvals = to_torch((offset+np.arange(d)) ** -alpha)\n",
    "data_eigvals /= data_eigvals.sum()\n",
    "X = to_torch(torch.normal(0, 1, (N, d))) * torch.sqrt(data_eigvals)\n",
    "\n",
    "# create kernel\n",
    "print(\"Creating kernel\")\n",
    "\n",
    "N, _ = X.shape\n",
    "S = torch.linalg.svdvals(X)\n",
    "# to make norm(x)~1 on average (level_coeff eqn requires this)\n",
    "X = X * torch.sqrt(N / (S**2).sum())\n",
    "data_eigvals = S**2 / (S**2).sum()\n",
    "\n",
    "kerneltype = GaussianKernel\n",
    "kwidth = 4\n",
    "kernel = kerneltype(X, kernel_width=kwidth)\n",
    "\n",
    "# Generate synthetic target\n",
    "print(\"Generating synthetic target\")\n",
    "\n",
    "P = N\n",
    "eval_level_coeff = kerneltype.get_level_coeff_fn(data_eigvals, kernel_width=kwidth)\n",
    "eigvals, monomials = generate_fra_monomials(data_eigvals, P, eval_level_coeff, kmax=10)\n",
    "H = get_matrix_hermites(X, monomials)\n",
    "offset = 6\n",
    "beta = 0.53\n",
    "synth_eigcoeffs = to_torch((offset+np.arange(P)) ** -beta)\n",
    "synth_eigcoeffs[0] = 0\n",
    "synth_eigcoeffs /= torch.linalg.norm(synth_eigcoeffs)\n",
    "y = np.sqrt(N) * H @ synth_eigcoeffs\n",
    "\n",
    "noise_var = 2e-1\n",
    "noise = to_torch(torch.normal(0, np.sqrt(noise_var), y.shape))\n",
    "SNR = torch.linalg.norm(y) / torch.linalg.norm(noise)\n",
    "print(f\"SNR = {SNR}\")\n",
    "y += noise"
   ]
  },
  {
   "cell_type": "code",
   "execution_count": null,
   "id": "7337d0b9",
   "metadata": {},
   "outputs": [],
   "source": [
    "ntrains = np.logspace(1, 4, base=10, num=20).astype(int)\n",
    "et_test_mse = ExptTrace([\"trial\", \"n\"])\n",
    "et_train_mse = ExptTrace([\"trial\", \"n\"])\n",
    "ystar_idx = 5\n",
    "ridge = 1e-3\n",
    "ntrials = 5\n",
    "\n",
    "K = to_torch(kernel.K)\n",
    "\n",
    "for trial in tqdm(range(ntrials)):\n",
    "    for ntrain in ntrains:\n",
    "        train_mse, test_mse, yhattest = krr(K, y, ntrain, n_test=2000, ridge=ridge)\n",
    "        et_test_mse[trial, ntrain] = test_mse\n",
    "        et_train_mse[trial, ntrain] = train_mse\n"
   ]
  },
  {
   "cell_type": "markdown",
   "id": "03489177",
   "metadata": {},
   "source": [
    "# Cifar 10"
   ]
  },
  {
   "cell_type": "code",
   "execution_count": null,
   "id": "45fd192b",
   "metadata": {},
   "outputs": [
    {
     "name": "stdout",
     "output_type": "stream",
     "text": [
      "Files already downloaded and verified\n",
      "Files already downloaded and verified\n",
      "d_eff=6.60\n"
     ]
    }
   ],
   "source": [
    "classes = [[0], [1]]\n",
    "NTRAIN = 10_000\n",
    "NTEST = 2_000\n",
    "\n",
    "cifar10 = ImageData('cifar10', DATA_PATH, classes=classes)\n",
    "X_train, y_train = cifar10.get_dataset(NTRAIN, get=\"train\")\n",
    "X_test, y_test = cifar10.get_dataset(NTEST, get=\"test\")\n",
    "X_train, y_train, X_test, y_test = [torch.Tensor(t) for t in (X_train, y_train, X_test, y_test)]\n",
    "X_raw = torch.cat([X_train, X_test])\n",
    "y = torch.cat([y_train, y_test])\n",
    "y -= y.mean()\n",
    "y = y[:,0]-y[:,1]\n",
    "\n",
    "X = preprocess(X_raw, center=True, grayscale=True, zca_strength=0)\n",
    "X = to_torch(X)\n",
    "\n",
    "N, _ = X.shape\n",
    "S = torch.linalg.svdvals(X)\n",
    "# to make norm(x)~1 on average\n",
    "X *= torch.sqrt(N / (S**2).sum())\n",
    "data_eigvals = S**2 / (S**2).sum()\n",
    "\n",
    "print(f\"d_eff={1/(data_eigvals**2).sum().item():.2f}\")"
   ]
  },
  {
   "cell_type": "code",
   "execution_count": 13,
   "id": "9f474a01",
   "metadata": {},
   "outputs": [
    {
     "name": "stdout",
     "output_type": "stream",
     "text": [
      "d_eff=38.20\n"
     ]
    }
   ],
   "source": [
    "X = preprocess(X_raw, center=True, grayscale=True, zca_strength=.02)\n",
    "X = to_torch(X)\n",
    "S = torch.linalg.svdvals(X)\n",
    "print(f\"d_eff={(S**2).sum().item()**2/(S**4).sum().item():.2f}\")"
   ]
  },
  {
   "cell_type": "code",
   "execution_count": null,
   "id": "76737633",
   "metadata": {},
   "outputs": [],
   "source": []
  }
 ],
 "metadata": {
  "kernelspec": {
   "display_name": "research",
   "language": "python",
   "name": "python3"
  },
  "language_info": {
   "codemirror_mode": {
    "name": "ipython",
    "version": 3
   },
   "file_extension": ".py",
   "mimetype": "text/x-python",
   "name": "python",
   "nbconvert_exporter": "python",
   "pygments_lexer": "ipython3",
   "version": "3.12.2"
  }
 },
 "nbformat": 4,
 "nbformat_minor": 5
}
